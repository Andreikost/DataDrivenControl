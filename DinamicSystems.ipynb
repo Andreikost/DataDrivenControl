!pip install control

import control
from control.matlab import *  # Librería que permite hacer uso de algunos comandos de Matlab
import numpy as np
import matplotlib.pyplot as plt
from scipy.signal import argrelmax


s=tf('s')

K = 0.77   #@param {type:"slider", min:0, max:1, step:0.01}
z0 = 1  #@param {type:"slider", min:-1, max:1, step:0.01}
C= 0.64     #@param {type:"slider", min:-1, max:1, step:0.01}
Wn = 0.07     #@param {type:"slider", min:-1, max:1, step:0.01}

#p0 = 0.17  #@param {type:"slider", min:-1, max:1, step:0.01}
#p1 = 0.47 #@param {type:"slider", min:-1, max:1, step:0.01}
#A0 = 0.31     #@param {type:"slider", min:-1, max:1, step:0.01}
#A1 = 0.26     #@param {type:"slider", min:-1, max:1, step:0.01}
#B0 = 0     #@param {type:"slider", min:-1, max:1, step:0.01}

#G= (K*(B0*s+z0))/((A0*s+p0)+(A1*s+p1))

G= (K*(B0*s+z0))/ (s**2+ 2*C*Wn*s + Wn**2) #((A0*s+p0)+(A1*s+p1))

U=np.linspace(1,1,1001)
t=[i*0.1 for i in range(0,1001)]

Y=control.forced_response(G,t,U,0)

y_ss = Y.outputs[-1]

for i in range(len(Y.outputs)):
    if Y.outputs[i] == y_ss:
        stable_time = t[i]
        break

tss=round(stable_time*10)+10
U=np.linspace(1,1,tss)
t=[i*0.1 for i in range(0, tss)]
Y=control.forced_response(G,t,U,0)


plt.figure(figsize=(20,10))
plt.yticks(np.arange(0,Y.outputs.max()+0.1,(Y.outputs.max())/11))
plt.xticks(np.arange(0,Y.time.max()+1,Y.time.max()/11))
plt.plot(Y[0],Y[1])
plt.grid(1)
